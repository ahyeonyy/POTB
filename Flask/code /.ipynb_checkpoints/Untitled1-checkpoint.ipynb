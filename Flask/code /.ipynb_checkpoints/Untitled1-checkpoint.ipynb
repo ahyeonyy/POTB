{
 "cells": [
  {
   "cell_type": "code",
   "execution_count": null,
   "id": "e69feea9",
   "metadata": {},
   "outputs": [],
   "source": [
    "import h5py\n",
    "import numpy as np\n",
    "import os\n",
    "import image_preprocessing\n",
    "import glob\n",
    "\n",
    "def compare_images(input_image, mask_images):\n",
    "    # 이미지 파일을 그레이스케일로 로드\n",
    "    img1 = cv2.cvtColor(input_image, cv2.COLOR_BGR2GRAY)\n",
    "    img2 = cv2.imread(mask_images, cv2.IMREAD_GRAYSCALE)\n",
    "\n",
    "    # 이미지 크기를 통일시키기 위해 크기 조정 (옵션)\n",
    "    img1 = cv2.resize(img1, (300, 300))\n",
    "    img2 = cv2.resize(img2, (300, 300))\n",
    "\n",
    "    # 이미지 유사도를 계산하기 위해 히스토그램 기반 비교 방법인 '코렐레이션' 사용\n",
    "    correlation = cv2.matchTemplate(img1, img2, cv2.TM_CCOEFF_NORMED)\n",
    "    similarity = correlation[0][0]  # 이미지 유사도 값\n",
    "\n",
    "    return similarity\n",
    "\n",
    "def find_most_similar_image(input_image, folder_path):\n",
    "    # 폴더 내의 이미지 파일들을 가져옴\n",
    "    image_files = glob.glob('./DATA/usa/mask/*.png')\n",
    "\n",
    "    most_similar_image = None\n",
    "    max_similarity = -1\n",
    "\n",
    "    # 폴더 내 이미지들과 유사도 비교\n",
    "    for image_file in image_files:\n",
    "        image_path = image_file\n",
    "        similarity = compare_images(input_image, image_path)\n",
    "\n",
    "        # 최대 유사도 갱신\n",
    "        if similarity > max_similarity:\n",
    "            max_similarity = similarity\n",
    "            most_similar_image = image_path\n",
    "\n",
    "    return most_similar_image, max_similarity\n",
    "\n",
    "def run_similar_image(input_uv_path, country, image_folder_path):\n",
    "    input_image = image_preprocessing.image_prepro_country(input_uv_path, country)\n",
    "    most_similar_image, similarity = find_most_similar_image(input_image, image_folder_path)\n",
    "    \n",
    "    if similarity < 0.3:\n",
    "        return \"위조\"\n",
    "    else:\n",
    "        return \"정상\"\n",
    "    \n",
    "with h5py.File('example.h5', 'w') as file:\n",
    "    file.create_dataset('my_data', data=data)"
   ]
  }
 ],
 "metadata": {
  "kernelspec": {
   "display_name": "Python 3",
   "language": "python",
   "name": "python3"
  },
  "language_info": {
   "codemirror_mode": {
    "name": "ipython",
    "version": 3
   },
   "file_extension": ".py",
   "mimetype": "text/x-python",
   "name": "python",
   "nbconvert_exporter": "python",
   "pygments_lexer": "ipython3",
   "version": "3.8.8"
  }
 },
 "nbformat": 4,
 "nbformat_minor": 5
}
